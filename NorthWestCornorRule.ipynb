{
  "cells": [
    {
      "cell_type": "code",
      "execution_count": 17,
      "metadata": {
        "id": "SY-CBikmTmtX"
      },
      "outputs": [],
      "source": []
    },
    {
      "cell_type": "markdown",
      "source": [
        "North West Cornor Rule for Balanced Problem"
      ],
      "metadata": {
        "id": "HYbh6OBIbHeB"
      }
    },
    {
      "cell_type": "code",
      "source": [
        "\n",
        "supply = [20, 30, 50]\n",
        "demand = [30, 40, 30]\n",
        "cost = [[8, 6, 10],\n",
        "        [9, 12, 13],\n",
        "        [14, 9, 16]]\n",
        "\n",
        "rows = len(supply)\n",
        "cols = len(demand)\n",
        "\n",
        "\n",
        "allocation = [[0] * cols for _ in range(rows)]\n",
        "\n",
        "\n",
        "i = 0\n",
        "j = 0\n",
        "\n",
        "while i < rows and j < cols:\n",
        "    allocation_amount = min(supply[i], demand[j])\n",
        "    allocation[i][j] = allocation_amount\n",
        "    supply[i] -= allocation_amount\n",
        "    demand[j] -= allocation_amount\n",
        "\n",
        "\n",
        "    if supply[i] == 0:\n",
        "        i += 1\n",
        "    if demand[j] == 0:\n",
        "        j += 1\n",
        "\n",
        "print(\"Allocation Matrix:\")\n",
        "for row in allocation:\n",
        "    print(row)\n",
        "\n",
        "total_cost = 0\n",
        "for i in range(rows):\n",
        "    for j in range(cols):\n",
        "        total_cost += allocation[i][j] * cost[i][j]\n",
        "\n",
        "print(f\"Total Cost: {total_cost}\")\n"
      ],
      "metadata": {
        "colab": {
          "base_uri": "https://localhost:8080/"
        },
        "id": "gU7cj95vVBLm",
        "outputId": "23f4eb55-814c-4770-aa4e-6a923ec17dc6"
      },
      "execution_count": 18,
      "outputs": [
        {
          "output_type": "stream",
          "name": "stdout",
          "text": [
            "Allocation Matrix:\n",
            "[20, 0, 0]\n",
            "[10, 20, 0]\n",
            "[0, 20, 30]\n",
            "Total Cost: 1150\n"
          ]
        }
      ]
    },
    {
      "cell_type": "markdown",
      "source": [
        "North West Cornor Rule for Unbalanced Problem"
      ],
      "metadata": {
        "id": "cKMQARe2bR2k"
      }
    },
    {
      "cell_type": "code",
      "source": [
        "\n",
        "supply = [20, 30, 50]\n",
        "demand = [30, 40, 40]\n",
        "cost = [[8, 6, 10],\n",
        "        [9, 12, 13],\n",
        "        [14, 9, 16]]\n",
        "\n",
        "rows = len(supply)\n",
        "cols = len(demand)\n",
        "\n",
        "total_supply = sum(supply)\n",
        "total_demand = sum(demand)\n",
        "\n",
        "if total_supply < total_demand:\n",
        "\n",
        "    supply.append(total_demand - total_supply)\n",
        "    dummy_row = [0] * cols\n",
        "    cost.append(dummy_row)\n",
        "    print(f\"Added a dummy supply row with supply {total_demand - total_supply}\")\n",
        "elif total_demand < total_supply:\n",
        "\n",
        "    demand.append(total_supply - total_demand)\n",
        "    for i in range(rows):\n",
        "        cost[i].append(0)\n",
        "    print(f\"Added a dummy demand column with demand {total_supply - total_demand}\")\n",
        "\n",
        "rows = len(supply)\n",
        "cols = len(demand)\n",
        "\n",
        "allocation = [[0] * cols for _ in range(rows)]\n",
        "\n",
        "\n",
        "i = 0\n",
        "j = 0\n",
        "\n",
        "while i < rows and j < cols:\n",
        "    allocation_amount = min(supply[i], demand[j])\n",
        "    allocation[i][j] = allocation_amount\n",
        "    supply[i] -= allocation_amount\n",
        "    demand[j] -= allocation_amount\n",
        "\n",
        "\n",
        "    if supply[i] == 0:\n",
        "        i += 1\n",
        "    if demand[j] == 0:\n",
        "        j += 1\n",
        "\n",
        "print(\"Allocation Matrix:\")\n",
        "for row in allocation:\n",
        "    print(row)\n",
        "\n",
        "total_cost = 0\n",
        "for i in range(rows):\n",
        "    for j in range(cols):\n",
        "        total_cost += allocation[i][j] * cost[i][j]\n",
        "\n",
        "print(f\"Total Cost: {total_cost}\")\n"
      ],
      "metadata": {
        "colab": {
          "base_uri": "https://localhost:8080/"
        },
        "id": "tfbGnVLlWDyk",
        "outputId": "405d7d47-e552-434d-e339-c50125bd44a0"
      },
      "execution_count": 19,
      "outputs": [
        {
          "output_type": "stream",
          "name": "stdout",
          "text": [
            "Added a dummy supply row with supply 10\n",
            "Allocation Matrix:\n",
            "[20, 0, 0]\n",
            "[10, 20, 0]\n",
            "[0, 20, 30]\n",
            "[0, 0, 10]\n",
            "Total Cost: 1150\n"
          ]
        }
      ]
    },
    {
      "cell_type": "code",
      "source": [],
      "metadata": {
        "id": "pW5IVx8WXmke"
      },
      "execution_count": 19,
      "outputs": []
    }
  ],
  "metadata": {
    "kernelspec": {
      "display_name": "Python 3",
      "language": "python",
      "name": "python3"
    },
    "language_info": {
      "codemirror_mode": {
        "name": "ipython",
        "version": 3
      },
      "file_extension": ".py",
      "mimetype": "text/x-python",
      "name": "python",
      "nbconvert_exporter": "python",
      "pygments_lexer": "ipython3",
      "version": "3.11.1"
    },
    "colab": {
      "provenance": []
    }
  },
  "nbformat": 4,
  "nbformat_minor": 0
}
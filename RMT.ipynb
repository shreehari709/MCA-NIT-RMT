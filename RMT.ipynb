{
  "nbformat": 4,
  "nbformat_minor": 0,
  "metadata": {
    "colab": {
      "provenance": []
    },
    "kernelspec": {
      "name": "python3",
      "display_name": "Python 3"
    },
    "language_info": {
      "name": "python"
    }
  },
  "cells": [
    {
      "cell_type": "markdown",
      "source": [
        "**Fibonacci Search**"
      ],
      "metadata": {
        "id": "WgvMAAt3Z9l2"
      }
    },
    {
      "cell_type": "code",
      "execution_count": 2,
      "metadata": {
        "colab": {
          "base_uri": "https://localhost:8080/"
        },
        "id": "USZFITM3Z2kB",
        "outputId": "13ba1ef2-6223-4a89-a5ac-2310816d1950"
      },
      "outputs": [
        {
          "output_type": "stream",
          "name": "stdout",
          "text": [
            "Enter a function of x to minimize (e.g., 'x**2'): x**2\n",
            "Enter Lower Bound of the interval (l): 0\n",
            "Enter Upper Bound of the interval (r): 1\n",
            "Enter the number of iterations (n): 3\n",
            "3\n",
            "Iteration 1: Interval = [0, 1.0]\n",
            "Iteration 2: Interval = [0.333, 1.0]\n",
            "Final Interval: [0.666, 1.0]\n",
            "Mean of the final interval: 0.833\n"
          ]
        },
        {
          "output_type": "execute_result",
          "data": {
            "text/plain": [
              "0.833"
            ]
          },
          "metadata": {},
          "execution_count": 2
        }
      ],
      "source": [
        "def fibonacci_search(f, l, r, n):\n",
        "    # Calculate Fibonacci series up to n terms\n",
        "\n",
        "    fib = [1, 1]\n",
        "    while len(fib) <= n:\n",
        "        fib.append(fib[-1] + fib[-2])\n",
        "\n",
        "    print(fib[n])\n",
        "    k = 1\n",
        "    while k < n:\n",
        "        # Calculate the ratio of the Fibonacci numbers\n",
        "        fk = (fib[n]-k)/( fib[n]-k+1)\n",
        "       # print(\"Value of Fk= \",fk)\n",
        "        ratio = round(fk, 3)\n",
        "        # x1 = d , x2 = c\n",
        "        x2 = round(l + ratio * (r - l), 3)\n",
        "        x1 = round((l + r) - x2, 3)\n",
        "\n",
        "        # Evaluate the function at c and d\n",
        "        fx2 = f(x2)\n",
        "        fx1 = f(x1)\n",
        "\n",
        "        # Print the current interval\n",
        "        print(f\"Iteration {k}: Interval = [{l}, {r}]\")\n",
        "\n",
        "        # Narrow the interval based on the function evaluations\n",
        "        if fx2 < fx1:\n",
        "            r = x2\n",
        "        else:\n",
        "            l = x1\n",
        "\n",
        "        k += 1\n",
        "\n",
        "    # Calculate the mean of the last interval\n",
        "    final_mean = (l + r) / 2\n",
        "\n",
        "    # Print the final interval and mean\n",
        "    print(f\"Final Interval: [{l}, {r}]\")\n",
        "    print(f\"Mean of the final interval: {final_mean}\")\n",
        "    return final_mean\n",
        "\n",
        "# User input for the function\n",
        "function_input = input(\"Enter a function of x to minimize (e.g., 'x**2'): \")\n",
        "\n",
        "# Convert the string input into a callable function\n",
        "f = eval(f\"lambda x: {function_input}\")\n",
        "\n",
        "# User input for the interval [l, r]\n",
        "l_input = input(f\"Enter Lower Bound of the interval (l): \")\n",
        "r_input = input(f\"Enter Upper Bound of the interval (r): \")\n",
        "\n",
        "# Convert the inputs to integers\n",
        "l = int(l_input)\n",
        "r = float(r_input)\n",
        "\n",
        "# User input for the number of iterations (n)\n",
        "n = int(input(\"Enter the number of iterations (n): \"))\n",
        "\n",
        "# Perform the Fibonacci Search\n",
        "fibonacci_search(f, l, r, n)\n"
      ]
    },
    {
      "cell_type": "markdown",
      "source": [
        "**Golden Ratio**"
      ],
      "metadata": {
        "id": "VqJQaBBja6tu"
      }
    },
    {
      "cell_type": "code",
      "source": [
        "\n",
        "#Minimizarion of the function using Golden Ratio\n",
        "def golden_section_search(f, l, r, tol):\n",
        "    golden_ratio = 0.618\n",
        "    iteration = 1\n",
        "\n",
        "    while (r - l) > tol:\n",
        "        # X2 and  X1 ko meow meow kar do\n",
        "        #round() function decimal ke baad values ko set kar sakte hai\n",
        "        x2 =round(l + golden_ratio*(r - l),3)\n",
        "        x1 =round((l+r) - x2,3)\n",
        "        # Print the current interval\n",
        "        print(f\"Iteration {iteration}: Interval = [{l}, {r}]\")\n",
        "\n",
        "        # Evaluate the function at the interior points\n",
        "        fx2 = f(x2)\n",
        "        fx1 = f(x1)\n",
        "\n",
        "        #\n",
        "        if fx1 > fx2:\n",
        "            r = x2\n",
        "        else:\n",
        "            l = x1\n",
        "\n",
        "        iteration += 1\n",
        "\n",
        "    # Calculate the mean of the last interval\n",
        "    final_mean = (l + r) / 2\n",
        "\n",
        "    # Print the last interval and the mean\n",
        "    print(f\"Final Interval: [{l}, {r}]\")\n",
        "    print(f\"Mean of the final interval: {final_mean}\")\n",
        "    return final_mean\n",
        "\n",
        "# User input for the function as a string\n",
        "function_input = input(\"Enter a function of x to minimize (e.g., 'x**2 '): \")\n",
        "\n",
        "# Convert the string input into a callable function\n",
        "f = eval(f\"lambda x: {function_input}\")\n",
        "\n",
        "# User input for the interval [a, b]\n",
        "l_input = input(\"Enter the Lower Bound of the interval (l): \")\n",
        "r_input = input(\"Enter the Upper Bound of the interval (r): \")\n",
        "\n",
        "# Convert the inputs\n",
        "l = int(l_input)\n",
        "r = int(r_input)\n",
        "\n",
        "# Stopping tolerance diya hua aagar ye\n",
        "tol = 0.13\n",
        "\n",
        "# Function ko call kar rahe hai yahan\n",
        "golden_section_search(f, l, r, tol)\n"
      ],
      "metadata": {
        "colab": {
          "base_uri": "https://localhost:8080/"
        },
        "id": "w_06FB9xbI4U",
        "outputId": "e64ae007-5265-4bf9-bfa0-9188d559c961"
      },
      "execution_count": 3,
      "outputs": [
        {
          "output_type": "stream",
          "name": "stdout",
          "text": [
            "Enter a function of x to minimize (e.g., 'x**2 '): x**2\n",
            "Enter the Lower Bound of the interval (l): 0\n",
            "Enter the Upper Bound of the interval (r): 1\n",
            "Iteration 1: Interval = [0, 1]\n",
            "Iteration 2: Interval = [0.382, 1]\n",
            "Iteration 3: Interval = [0.618, 1]\n",
            "Iteration 4: Interval = [0.764, 1]\n",
            "Iteration 5: Interval = [0.854, 1]\n",
            "Final Interval: [0.91, 1]\n",
            "Mean of the final interval: 0.9550000000000001\n"
          ]
        },
        {
          "output_type": "execute_result",
          "data": {
            "text/plain": [
              "0.9550000000000001"
            ]
          },
          "metadata": {},
          "execution_count": 3
        }
      ]
    },
    {
      "cell_type": "markdown",
      "source": [
        "**Lanrange Method**"
      ],
      "metadata": {
        "id": "fp5PiVnkbWD9"
      }
    },
    {
      "cell_type": "code",
      "source": [
        "import sympy as sp\n",
        "from sympy import *\n",
        "\n",
        "#function_input = input(\"Enter a Objective function function: \")\n",
        "\n",
        "# Convert the string input into a callable function\n",
        "x,y,l=sp.symbols('x,y,l')\n",
        "\n",
        "# Take user inputs\n",
        "#z_fun = input(\"Enter the expression for z_fun (in terms of x and y) ex(4*x**2 - 2*x*y + 6*y**2): \")\n",
        "#constraint = input(\"Enter the expression for constraint (in terms of x, y, and l)(72*l -x*l-l*y): \")\n",
        "#gx = float(input(\"Enter the value for gx: \"))\n",
        "#gy = float(input(\"Enter the value for gy: \"))\n",
        "\n",
        "# Convert string inputs into sympy expressions\n",
        "#z_fun = sp.sympify(z_fun_input)\n",
        "#constraint = sp.sympify(constraint_input)\n",
        "\n",
        "ob_fun= 4*x**2 - 2*x*y + 6*y**2 + 72*l -x*l-l*y\n",
        "z_fun = 4*x**2 - 2*x*y + 6*y**2\n",
        "constraint = 72*l -x*l-l*y\n",
        "\n",
        "ob_fun = (z_fun) + (constraint)\n",
        "\n",
        "print(\"Expression : {}\".format(ob_fun))\n",
        "\n",
        "# Use sympy.Derivative() method\n",
        "diff_x = sp.diff(ob_fun, x)\n",
        "diff_y = sp.diff(ob_fun, y)\n",
        "diff_l = sp.diff(ob_fun, l)\n",
        "gx=-1\n",
        "gy=-1\n",
        "\n",
        "print(\"Value of the derivative : {} \".format(diff_x.doit()))\n",
        "\n",
        "\n",
        "print(\"Value of the derivative : {} \".format(diff_y.doit()))\n",
        "\n",
        "print(\"Value of the derivative : {} \".format(diff_l.doit()))\n",
        "\n",
        "solutions = sp.solve([diff_x, diff_y, diff_l], (x, y, l))\n",
        "\n",
        "# Display the solutions\n",
        "#print(\"\\nSolutions:\")\n",
        "#for var, value in solutions.items():\n",
        "#    print(f\"{var} = {value}\")\n",
        "\n",
        "\n",
        "diff_xx = sp.diff(diff_x, x)\n",
        "\n",
        "diff_xy = sp.diff(diff_x, y)\n",
        "\n",
        "diff_yx = sp.diff(diff_y, x)\n",
        "\n",
        "diff_yy = sp.diff(diff_y, y)\n",
        "\n",
        "determinants=diff_xx*(0-gy*gy)-diff_xy*(0-gy*gx)+gx*(diff_yx*gy - diff_yy*gx)\n",
        "print(determinants)\n",
        "\n",
        "x_sol = solutions[x]\n",
        "y_sol = solutions[y]\n",
        "l_sol = solutions[l]\n",
        "\n",
        "# Display the stored solutions\n",
        "#print(\"\\nStored Solutions:\")\n",
        "print(f\"x = {x_sol}\")\n",
        "print(f\"y = {y_sol}\")\n",
        "print(f\"λ = {l_sol}\")\n",
        "\n",
        "def zmin(x, y):\n",
        "    return 4*(x**2) - 2*x*y + 6*y**2\n",
        "\n",
        "def zmax(x, y):\n",
        "    return 4*x**2 - 2*x*y + 6*y**2\n",
        "\n",
        "# Check the determinant to determine if it's a minimum or maximum\n",
        "if determinants > 0:\n",
        "    zmax_value = zmax(x_sol, y_sol)\n",
        "    print(\"Z max =\", zmax_value)\n",
        "else:\n",
        "    zmin_value = zmin(x_sol, y_sol)\n",
        "    print(\"Z min =\", zmin_value)\n",
        ""
      ],
      "metadata": {
        "colab": {
          "base_uri": "https://localhost:8080/"
        },
        "id": "3TO9WGuzbhp4",
        "outputId": "70d91380-49b3-4fdf-e931-ceb51f7cf4bf"
      },
      "execution_count": 4,
      "outputs": [
        {
          "output_type": "stream",
          "name": "stdout",
          "text": [
            "Expression : -l*x - l*y + 72*l + 4*x**2 - 2*x*y + 6*y**2\n",
            "Value of the derivative : -l + 8*x - 2*y \n",
            "Value of the derivative : -l - 2*x + 12*y \n",
            "Value of the derivative : -x - y + 72 \n",
            "-24\n",
            "x = 42\n",
            "y = 30\n",
            "λ = 276\n",
            "Z min = 9936\n"
          ]
        }
      ]
    },
    {
      "cell_type": "markdown",
      "source": [
        "**Linear Programming **"
      ],
      "metadata": {
        "id": "cbHCQygPiU3y"
      }
    },
    {
      "cell_type": "code",
      "source": [
        "#Linear Programming\n",
        "import numpy as np\n",
        "import matplotlib.pyplot as plt\n",
        "import seaborn as sns\n",
        "\n",
        "# Define the inequalities as functions\n",
        "x = np.linspace(0, 30, 400)\n",
        "y1 = (5000 - 200 * x) / 100\n",
        "y2 = (1000 - 25 * x) / 50\n",
        "\n",
        "# Set up the plot\n",
        "plt.figure(figsize=(8, 8))\n",
        "sns.set(style=\"whitegrid\")\n",
        "\n",
        "# Plot the lines\n",
        "plt.plot(x, y1, label=r'$200x + 100y \\leq 5000$')\n",
        "plt.plot(x, y2, label=r'$25x + 50y \\leq 1000$')\n",
        "\n",
        "# Fill the feasible region\n",
        "plt.fill_between(x, np.minimum(y1, y2), where=(y1 >= 0) & (y2 >= 0), color='gray', alpha=0.5)\n",
        "\n",
        "# Axis labels\n",
        "plt.xlim((0, 30))\n",
        "plt.ylim((0, 30))\n",
        "plt.xlabel(r'$x$')\n",
        "plt.ylabel(r'$y$')\n",
        "\n",
        "# Add a legend\n",
        "plt.legend()\n",
        "\n",
        "# Calculate corner points\n",
        "corners = [\n",
        "    (0, 5000/100),  # Intersection with y-axis from the first equation\n",
        "    (1000/25, 0),   # Intersection with x-axis from the second equation\n",
        "    (20, 10)        # Intersection of the two lines\n",
        "]\n",
        "\n",
        "# Mark the feasible region's vertices\n",
        "for corner in corners:\n",
        "    plt.scatter(*corner, color='red')\n",
        "    plt.text(corner[0] + 0.5, corner[1] + 0.5, f'{corner}', fontsize=12, color='black')\n",
        "\n",
        "# Display the plot\n",
        "plt.title('Feasible Region for the LLP')\n",
        "plt.show()\n"
      ],
      "metadata": {
        "colab": {
          "base_uri": "https://localhost:8080/",
          "height": 1000
        },
        "id": "VN8XaHtQiVYW",
        "outputId": "10f44265-696c-49ed-e9d8-aca26a33889d"
      },
      "execution_count": 15,
      "outputs": [
        {
          "output_type": "display_data",
          "data": {
            "text/plain": [
              "<Figure size 800x800 with 1 Axes>"
            ],
            "image/png": "[encoded data removed]"
          },
          "metadata": {}
        }
      ]
    },
    {
      "cell_type": "markdown",
      "source": [
        "**Simplex Method**"
      ],
      "metadata": {
        "id": "eJMSlWYxbo_B"
      }
    },
    {
      "cell_type": "code",
      "source": [
        "import numpy as np\n",
        "from scipy.optimize import linprog\n",
        "\n",
        "def main():\n",
        "    # Get the number of variables\n",
        "    num_vars = int(input(\"Enter the number of variables: \"))\n",
        "\n",
        "    # Get coefficients of the objective function\n",
        "    print(\"Enter the coefficients of the objective function (space-separated):\")\n",
        "    c = list(map(float, input().split()))\n",
        "    c = [-coef for coef in c]  # Negate for minimization (since linprog minimizes by default)\n",
        "\n",
        "    # Get the number of constraints\n",
        "    num_constraints = int(input(\"Enter the number of constraints: \"))\n",
        "\n",
        "    A = []\n",
        "    b = []\n",
        "\n",
        "    # Input each constraint\n",
        "    for i in range(num_constraints):\n",
        "        print(f\"Enter the coefficients for constraint {i + 1} (space-separated):\")\n",
        "        constraint = list(map(float, input().split()))\n",
        "        A.append(constraint)\n",
        "\n",
        "        print(f\"Enter the right-hand side value for constraint {i + 1}:\")\n",
        "        rhs = float(input())\n",
        "        b.append(rhs)\n",
        "\n",
        "    # Get variable bounds\n",
        "    bounds = []\n",
        "    for i in range(num_vars):\n",
        "        print(f\"Enter the bounds for variable x{i + 1} (min max, space-separated, or just hit enter for [0, None]):\")\n",
        "        bounds_input = input()\n",
        "        if bounds_input:\n",
        "            bounds.append(tuple(map(float, bounds_input.split())))\n",
        "        else:\n",
        "            bounds.append((0, None))  # Default non-negativity\n",
        "\n",
        "    # Run the Simplex method\n",
        "    result = linprog(c, A_ub=A, b_ub=b, bounds=bounds, method='highs')\n",
        "\n",
        "    # Display the results\n",
        "    if result.success:\n",
        "        print(f\"Optimal value: {-result.fun}\")  # Negate again to get the max value\n",
        "        for i in range(num_vars):\n",
        "            print(f\"x{i + 1}: {result.x[i]}\")\n",
        "    else:\n",
        "        print(\"No solution found.\")\n",
        "\n",
        "# Fix the name check block\n",
        "if __name__ == \"__main__\":\n",
        "    main()\n"
      ],
      "metadata": {
        "colab": {
          "base_uri": "https://localhost:8080/"
        },
        "id": "QUXRohcabsIa",
        "outputId": "1d0acbec-164d-4b46-ad12-7f941fc4ec52"
      },
      "execution_count": 9,
      "outputs": [
        {
          "output_type": "stream",
          "name": "stdout",
          "text": [
            "Enter the number of variables: 3\n",
            "Enter the coefficients of the objective function (space-separated):\n",
            "1 1 3\n",
            "Enter the number of constraints: 2\n",
            "Enter the coefficients for constraint 1 (space-separated):\n",
            "3 2 1\n",
            "Enter the right-hand side value for constraint 1:\n",
            "3\n",
            "Enter the coefficients for constraint 2 (space-separated):\n",
            "2 1 2\n",
            "Enter the right-hand side value for constraint 2:\n",
            "2\n",
            "Enter the bounds for variable x1 (min max, space-separated, or just hit enter for [0, None]):\n",
            "\n",
            "Enter the bounds for variable x2 (min max, space-separated, or just hit enter for [0, None]):\n",
            "\n",
            "Enter the bounds for variable x3 (min max, space-separated, or just hit enter for [0, None]):\n",
            "\n",
            "Optimal value: 3.0\n",
            "x1: 0.0\n",
            "x2: 0.0\n",
            "x3: 1.0\n"
          ]
        }
      ]
    },
    {
      "cell_type": "markdown",
      "source": [
        "**North West Cornor Rule for Balanced Problem**"
      ],
      "metadata": {
        "id": "-A6EaXrCe4aE"
      }
    },
    {
      "cell_type": "code",
      "source": [
        "\n",
        "supply = [20, 30, 50]\n",
        "demand = [30, 40, 30]\n",
        "cost = [[8, 6, 10],\n",
        "        [9, 12, 13],\n",
        "        [14, 9, 16]]\n",
        "\n",
        "rows = len(supply)\n",
        "cols = len(demand)\n",
        "\n",
        "\n",
        "allocation = [[0] * cols for _ in range(rows)]\n",
        "\n",
        "\n",
        "i = 0\n",
        "j = 0\n",
        "\n",
        "while i < rows and j < cols:\n",
        "    allocation_amount = min(supply[i], demand[j])\n",
        "    allocation[i][j] = allocation_amount\n",
        "    supply[i] -= allocation_amount\n",
        "    demand[j] -= allocation_amount\n",
        "\n",
        "\n",
        "    if supply[i] == 0:\n",
        "        i += 1\n",
        "    if demand[j] == 0:\n",
        "        j += 1\n",
        "\n",
        "print(\"Allocation Matrix:\")\n",
        "for row in allocation:\n",
        "    print(row)\n",
        "\n",
        "total_cost = 0\n",
        "for i in range(rows):\n",
        "    for j in range(cols):\n",
        "        total_cost += allocation[i][j] * cost[i][j]\n",
        "\n",
        "print(f\"Total Cost: {total_cost}\")\n"
      ],
      "metadata": {
        "colab": {
          "base_uri": "https://localhost:8080/"
        },
        "id": "k9x6r5Ggcm0Z",
        "outputId": "820d149a-1447-4105-a765-f9dbf9b8c300"
      },
      "execution_count": 10,
      "outputs": [
        {
          "output_type": "stream",
          "name": "stdout",
          "text": [
            "Allocation Matrix:\n",
            "[20, 0, 0]\n",
            "[10, 20, 0]\n",
            "[0, 20, 30]\n",
            "Total Cost: 1150\n"
          ]
        }
      ]
    },
    {
      "cell_type": "markdown",
      "source": [
        "**North West Cornor Rule for Unbalanced Problem**"
      ],
      "metadata": {
        "id": "EtjMEMq_fKFN"
      }
    },
    {
      "cell_type": "code",
      "source": [
        "\n",
        "supply = [20, 30, 50]\n",
        "demand = [30, 40, 50]\n",
        "cost = [[8, 6, 10],\n",
        "        [9, 12, 13],\n",
        "        [14, 9, 16]]\n",
        "\n",
        "rows = len(supply)\n",
        "cols = len(demand)\n",
        "\n",
        "total_supply = sum(supply)\n",
        "total_demand = sum(demand)\n",
        "\n",
        "if total_supply < total_demand:\n",
        "\n",
        "    supply.append(total_demand - total_supply)\n",
        "    dummy_row = [0] * cols\n",
        "    cost.append(dummy_row)\n",
        "    print(f\"Added a dummy supply row with supply {total_demand - total_supply}\")\n",
        "elif total_demand < total_supply:\n",
        "\n",
        "    demand.append(total_supply - total_demand)\n",
        "    for i in range(rows):\n",
        "        cost[i].append(0)\n",
        "    print(f\"Added a dummy demand column with demand {total_supply - total_demand}\")\n",
        "\n",
        "rows = len(supply)\n",
        "cols = len(demand)\n",
        "\n",
        "allocation = [[0] * cols for _ in range(rows)]\n",
        "\n",
        "\n",
        "i = 0\n",
        "j = 0\n",
        "\n",
        "while i < rows and j < cols:\n",
        "    allocation_amount = min(supply[i], demand[j])\n",
        "    allocation[i][j] = allocation_amount\n",
        "    supply[i] -= allocation_amount\n",
        "    demand[j] -= allocation_amount\n",
        "\n",
        "\n",
        "    if supply[i] == 0:\n",
        "        i += 1\n",
        "    if demand[j] == 0:\n",
        "        j += 1\n",
        "\n",
        "print(\"Allocation Matrix:\")\n",
        "for row in allocation:\n",
        "    print(row)\n",
        "\n",
        "total_cost = 0\n",
        "for i in range(rows):\n",
        "    for j in range(cols):\n",
        "        total_cost += allocation[i][j] * cost[i][j]\n",
        "\n",
        "print(f\"Total Cost: {total_cost}\")\n"
      ],
      "metadata": {
        "colab": {
          "base_uri": "https://localhost:8080/"
        },
        "id": "jK74Age4fQMJ",
        "outputId": "72d962d2-17ca-488a-fc51-99eeafe2ed07"
      },
      "execution_count": 11,
      "outputs": [
        {
          "output_type": "stream",
          "name": "stdout",
          "text": [
            "Added a dummy supply row with supply 20\n",
            "Allocation Matrix:\n",
            "[20, 0, 0]\n",
            "[10, 20, 0]\n",
            "[0, 20, 30]\n",
            "[0, 0, 20]\n",
            "Total Cost: 1150\n"
          ]
        }
      ]
    },
    {
      "cell_type": "markdown",
      "source": [
        "** Transportation problem using the least cost method**"
      ],
      "metadata": {
        "id": "_hW9g2bUfUSx"
      }
    },
    {
      "cell_type": "code",
      "source": [
        "supply = [20, 30, 50]\n",
        "demand = [30, 40, 50]\n",
        "cost = [[8, 6, 10],\n",
        "        [9, 12, 13],\n",
        "        [14, 9, 16]]\n",
        "\n",
        "rows = len(supply)\n",
        "cols = len(demand)\n",
        "\n",
        "total_supply = sum(supply)\n",
        "total_demand = sum(demand)\n",
        "\n",
        "# Balancing supply and demand if they are not equal\n",
        "if total_supply < total_demand:\n",
        "    supply.append(total_demand - total_supply)\n",
        "    dummy_row = [0] * cols\n",
        "    cost.append(dummy_row)\n",
        "    print(f\"Added a dummy supply row with supply {total_demand - total_supply}\")\n",
        "elif total_demand < total_supply:\n",
        "    demand.append(total_supply - total_demand)\n",
        "    for i in range(rows):\n",
        "        cost[i].append(0)\n",
        "    print(f\"Added a dummy demand column with demand {total_supply - total_demand}\")\n",
        "\n",
        "rows = len(supply)\n",
        "cols = len(demand)\n",
        "\n",
        "allocation = [[0] * cols for _ in range(rows)]\n",
        "\n",
        "# Creating a list of all cell positions sorted by cost\n",
        "cell_costs = [(i, j, cost[i][j]) for i in range(rows) for j in range(cols)]\n",
        "cell_costs.sort(key=lambda x: x[2])  # Sort by the cost value\n",
        "\n",
        "for i, j, _ in cell_costs:\n",
        "    if supply[i] > 0 and demand[j] > 0:\n",
        "        allocation_amount = min(supply[i], demand[j])\n",
        "        allocation[i][j] = allocation_amount\n",
        "        supply[i] -= allocation_amount\n",
        "        demand[j] -= allocation_amount\n",
        "\n",
        "print(\"Allocation Matrix:\")\n",
        "for row in allocation:\n",
        "    print(row)\n",
        "\n",
        "# Calculating total cost\n",
        "total_cost = 0\n",
        "for i in range(rows):\n",
        "    for j in range(cols):\n",
        "        total_cost += allocation[i][j] * cost[i][j]\n",
        "\n",
        "print(f\"Total Cost: {total_cost}\")\n"
      ],
      "metadata": {
        "colab": {
          "base_uri": "https://localhost:8080/"
        },
        "id": "Ba-e0UOJfXcC",
        "outputId": "2599f86e-67a2-4b22-8a5c-7d12448e2ddc"
      },
      "execution_count": 12,
      "outputs": [
        {
          "output_type": "stream",
          "name": "stdout",
          "text": [
            "Added a dummy supply row with supply 20\n",
            "Allocation Matrix:\n",
            "[0, 20, 0]\n",
            "[10, 0, 20]\n",
            "[0, 20, 30]\n",
            "[20, 0, 0]\n",
            "Total Cost: 1130\n"
          ]
        }
      ]
    },
    {
      "cell_type": "markdown",
      "source": [
        "**Transportation problem using the Vogel's Approximation Method**"
      ],
      "metadata": {
        "id": "f3ubA9U7faOm"
      }
    },
    {
      "cell_type": "code",
      "source": [
        "supply = [20, 30, 50]\n",
        "demand = [30, 40, 50]\n",
        "cost = [[8, 6, 10],\n",
        "        [9, 12, 13],\n",
        "        [14, 9, 16]]\n",
        "\n",
        "rows = len(supply)\n",
        "cols = len(demand)\n",
        "\n",
        "total_supply = sum(supply)\n",
        "total_demand = sum(demand)\n",
        "\n",
        "# Balancing the problem if needed\n",
        "if total_supply < total_demand:\n",
        "    supply.append(total_demand - total_supply)\n",
        "    dummy_row = [0] * cols\n",
        "    cost.append(dummy_row)\n",
        "    print(f\"Added a dummy supply row with supply {total_demand - total_supply}\")\n",
        "elif total_demand < total_supply:\n",
        "    demand.append(total_supply - total_demand)\n",
        "    for i in range(rows):\n",
        "        cost[i].append(0)\n",
        "    print(f\"Added a dummy demand column with demand {total_supply - total_demand}\")\n",
        "\n",
        "rows = len(supply)\n",
        "cols = len(demand)\n",
        "\n",
        "allocation = [[0] * cols for _ in range(rows)]\n",
        "\n",
        "# Vogel's Approximation Method\n",
        "def calculate_penalties(cost, supply, demand):\n",
        "    penalties = []\n",
        "\n",
        "    for i in range(rows):\n",
        "        if supply[i] == 0:\n",
        "            penalties.append(None)  # Ignore rows with no supply\n",
        "            continue\n",
        "        sorted_row_costs = sorted([cost[i][j] for j in range(cols) if demand[j] > 0])\n",
        "        if len(sorted_row_costs) >= 2:\n",
        "            penalties.append(sorted_row_costs[1] - sorted_row_costs[0])\n",
        "        else:\n",
        "            penalties.append(sorted_row_costs[0])  # If only one cost is available\n",
        "    row_penalties = penalties[:]\n",
        "\n",
        "    penalties = []\n",
        "    for j in range(cols):\n",
        "        if demand[j] == 0:\n",
        "            penalties.append(None)  # Ignore columns with no demand\n",
        "            continue\n",
        "        sorted_col_costs = sorted([cost[i][j] for i in range(rows) if supply[i] > 0])\n",
        "        if len(sorted_col_costs) >= 2:\n",
        "            penalties.append(sorted_col_costs[1] - sorted_col_costs[0])\n",
        "        else:\n",
        "            penalties.append(sorted_col_costs[0])  # If only one cost is available\n",
        "    col_penalties = penalties[:]\n",
        "\n",
        "    return row_penalties, col_penalties\n",
        "\n",
        "while any(supply) and any(demand):\n",
        "    row_penalties, col_penalties = calculate_penalties(cost, supply, demand)\n",
        "\n",
        "    max_row_penalty = max((p, i) for i, p in enumerate(row_penalties) if p is not None)\n",
        "    max_col_penalty = max((p, j) for j, p in enumerate(col_penalties) if p is not None)\n",
        "\n",
        "    if max_row_penalty[0] >= max_col_penalty[0]:\n",
        "        i = max_row_penalty[1]\n",
        "        j = min((cost[i][j], j) for j in range(cols) if demand[j] > 0)[1]\n",
        "    else:\n",
        "        j = max_col_penalty[1]\n",
        "        i = min((cost[i][j], i) for i in range(rows) if supply[i] > 0)[1]\n",
        "\n",
        "    allocation_amount = min(supply[i], demand[j])\n",
        "    allocation[i][j] = allocation_amount\n",
        "    supply[i] -= allocation_amount\n",
        "    demand[j] -= allocation_amount\n",
        "\n",
        "print(\"Allocation Matrix:\")\n",
        "for row in allocation:\n",
        "    print(row)\n",
        "\n",
        "total_cost = 0\n",
        "for i in range(rows):\n",
        "    for j in range(cols):\n",
        "        total_cost += allocation[i][j] * cost[i][j]\n",
        "\n",
        "print(f\"Total Cost: {total_cost}\")\n"
      ],
      "metadata": {
        "colab": {
          "base_uri": "https://localhost:8080/"
        },
        "id": "CU_tjhOVfdyo",
        "outputId": "a689a13f-df78-4ed2-e2b8-81901471c73b"
      },
      "execution_count": 13,
      "outputs": [
        {
          "output_type": "stream",
          "name": "stdout",
          "text": [
            "Added a dummy supply row with supply 20\n",
            "Allocation Matrix:\n",
            "[0, 0, 20]\n",
            "[30, 0, 0]\n",
            "[0, 40, 10]\n",
            "[0, 0, 20]\n",
            "Total Cost: 990\n"
          ]
        }
      ]
    },
    {
      "cell_type": "markdown",
      "source": [
        "**Assignment Problem**"
      ],
      "metadata": {
        "id": "tZY7t96ffhsW"
      }
    },
    {
      "cell_type": "code",
      "source": [
        "import numpy as np\n",
        "\n",
        "def hungarian_method(cost_matrix):\n",
        "\n",
        "    for i in range(len(cost_matrix)):\n",
        "        cost_matrix[i] -= cost_matrix[i].min()\n",
        "\n",
        "\n",
        "    for j in range(len(cost_matrix[0])):\n",
        "        cost_matrix[:, j] -= cost_matrix[:, j].min()\n",
        "\n",
        "\n",
        "    def cover_zeros(matrix):\n",
        "        n = len(matrix)\n",
        "        row_cover = [False] * n\n",
        "        col_cover = [False] * n\n",
        "        zero_marks = np.zeros_like(matrix, dtype=int)\n",
        "\n",
        "        while True:\n",
        "\n",
        "            for i in range(n):\n",
        "                for j in range(n):\n",
        "                    if matrix[i][j] == 0 and not row_cover[i] and not col_cover[j]:\n",
        "                        zero_marks[i][j] = 1\n",
        "                        row_cover[i] = True\n",
        "                        col_cover[j] = True\n",
        "                        break\n",
        "\n",
        "\n",
        "            row_cover = [False] * n\n",
        "            col_cover = [False] * n\n",
        "\n",
        "\n",
        "            for i in range(n):\n",
        "                if 1 in zero_marks[i]:\n",
        "                    row_cover[i] = True\n",
        "            for j in range(n):\n",
        "                if 1 in zero_marks[:, j]:\n",
        "                    col_cover[j] = True\n",
        "\n",
        "            covered_rows = sum(row_cover)\n",
        "            covered_cols = sum(col_cover)\n",
        "            if covered_rows + covered_cols >= n:\n",
        "                break\n",
        "\n",
        "\n",
        "            uncovered_min = float('inf')\n",
        "            for i in range(n):\n",
        "                for j in range(n):\n",
        "                    if not row_cover[i] and not col_cover[j]:\n",
        "                        uncovered_min = min(uncovered_min, matrix[i][j])\n",
        "\n",
        "            for i in range(n):\n",
        "                for j in range(n):\n",
        "                    if not row_cover[i] and not col_cover[j]:\n",
        "                        matrix[i][j] -= uncovered_min\n",
        "                    if row_cover[i] and col_cover[j]:\n",
        "                        matrix[i][j] += uncovered_min\n",
        "\n",
        "        return zero_marks\n",
        "\n",
        "\n",
        "    zero_marks = cover_zeros(cost_matrix.copy())\n",
        "    assignment = np.zeros_like(cost_matrix, dtype=int)\n",
        "\n",
        "    for i in range(len(cost_matrix)):\n",
        "        for j in range(len(cost_matrix[i])):\n",
        "            if zero_marks[i][j] == 1:\n",
        "                assignment[i][j] = 1\n",
        "\n",
        "    return assignment\n",
        "\n",
        "\n",
        "cost = [\n",
        "    [4, 3, 6, 2, 7],\n",
        "    [10, 12, 11, 14, 16],\n",
        "    [4, 3, 2, 1, 5],\n",
        "    [8, 7, 6, 9, 6]\n",
        "]\n",
        "\n",
        "cost_matrix = np.array(cost, dtype=float)\n",
        "assignment_matrix = hungarian_method(cost_matrix.copy())\n",
        "total_cost = np.sum(cost_matrix * assignment_matrix)\n",
        "\n",
        "print(\"Assignment Matrix:\")\n",
        "print(assignment_matrix)\n",
        "print(f\"Total Cost: {total_cost}\")\n"
      ],
      "metadata": {
        "colab": {
          "base_uri": "https://localhost:8080/"
        },
        "id": "GbKQRwIpflZd",
        "outputId": "1396c615-73c2-47b3-8b97-4e1d7d3df327"
      },
      "execution_count": 14,
      "outputs": [
        {
          "output_type": "stream",
          "name": "stdout",
          "text": [
            "Assignment Matrix:\n",
            "[[0 1 0 0 0]\n",
            " [1 0 0 0 0]\n",
            " [0 0 0 1 0]\n",
            " [0 0 1 0 0]]\n",
            "Total Cost: 20.0\n"
          ]
        }
      ]
    }
  ]
}
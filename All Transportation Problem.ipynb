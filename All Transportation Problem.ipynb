{
  "cells": [
    {
      "cell_type": "code",
      "execution_count": null,
      "metadata": {
        "id": "SY-CBikmTmtX"
      },
      "outputs": [],
      "source": []
    },
    {
      "cell_type": "markdown",
      "source": [
        "North West Cornor Rule for Balanced Problem"
      ],
      "metadata": {
        "id": "HYbh6OBIbHeB"
      }
    },
    {
      "cell_type": "code",
      "source": [
        "\n",
        "supply = [20, 30, 50]\n",
        "demand = [30, 40, 30]\n",
        "cost = [[8, 6, 10],\n",
        "        [9, 12, 13],\n",
        "        [14, 9, 16]]\n",
        "\n",
        "rows = len(supply)\n",
        "cols = len(demand)\n",
        "\n",
        "\n",
        "allocation = [[0] * cols for _ in range(rows)]\n",
        "\n",
        "\n",
        "i = 0\n",
        "j = 0\n",
        "\n",
        "while i < rows and j < cols:\n",
        "    allocation_amount = min(supply[i], demand[j])\n",
        "    allocation[i][j] = allocation_amount\n",
        "    supply[i] -= allocation_amount\n",
        "    demand[j] -= allocation_amount\n",
        "\n",
        "\n",
        "    if supply[i] == 0:\n",
        "        i += 1\n",
        "    if demand[j] == 0:\n",
        "        j += 1\n",
        "\n",
        "print(\"Allocation Matrix:\")\n",
        "for row in allocation:\n",
        "    print(row)\n",
        "\n",
        "total_cost = 0\n",
        "for i in range(rows):\n",
        "    for j in range(cols):\n",
        "        total_cost += allocation[i][j] * cost[i][j]\n",
        "\n",
        "print(f\"Total Cost: {total_cost}\")\n"
      ],
      "metadata": {
        "colab": {
          "base_uri": "https://localhost:8080/"
        },
        "id": "gU7cj95vVBLm",
        "outputId": "e28753a8-d795-47f1-821c-d4c01f71fcda"
      },
      "execution_count": 1,
      "outputs": [
        {
          "output_type": "stream",
          "name": "stdout",
          "text": [
            "Allocation Matrix:\n",
            "[20, 0, 0]\n",
            "[10, 20, 0]\n",
            "[0, 20, 30]\n",
            "Total Cost: 1150\n"
          ]
        }
      ]
    },
    {
      "cell_type": "markdown",
      "source": [
        "North West Cornor Rule for Unbalanced Problem"
      ],
      "metadata": {
        "id": "cKMQARe2bR2k"
      }
    },
    {
      "cell_type": "code",
      "source": [
        "\n",
        "supply = [20, 30, 50]\n",
        "demand = [30, 40, 50]\n",
        "cost = [[8, 6, 10],\n",
        "        [9, 12, 13],\n",
        "        [14, 9, 16]]\n",
        "\n",
        "rows = len(supply)\n",
        "cols = len(demand)\n",
        "\n",
        "total_supply = sum(supply)\n",
        "total_demand = sum(demand)\n",
        "\n",
        "if total_supply < total_demand:\n",
        "\n",
        "    supply.append(total_demand - total_supply)\n",
        "    dummy_row = [0] * cols\n",
        "    cost.append(dummy_row)\n",
        "    print(f\"Added a dummy supply row with supply {total_demand - total_supply}\")\n",
        "elif total_demand < total_supply:\n",
        "\n",
        "    demand.append(total_supply - total_demand)\n",
        "    for i in range(rows):\n",
        "        cost[i].append(0)\n",
        "    print(f\"Added a dummy demand column with demand {total_supply - total_demand}\")\n",
        "\n",
        "rows = len(supply)\n",
        "cols = len(demand)\n",
        "\n",
        "allocation = [[0] * cols for _ in range(rows)]\n",
        "\n",
        "\n",
        "i = 0\n",
        "j = 0\n",
        "\n",
        "while i < rows and j < cols:\n",
        "    allocation_amount = min(supply[i], demand[j])\n",
        "    allocation[i][j] = allocation_amount\n",
        "    supply[i] -= allocation_amount\n",
        "    demand[j] -= allocation_amount\n",
        "\n",
        "\n",
        "    if supply[i] == 0:\n",
        "        i += 1\n",
        "    if demand[j] == 0:\n",
        "        j += 1\n",
        "\n",
        "print(\"Allocation Matrix:\")\n",
        "for row in allocation:\n",
        "    print(row)\n",
        "\n",
        "total_cost = 0\n",
        "for i in range(rows):\n",
        "    for j in range(cols):\n",
        "        total_cost += allocation[i][j] * cost[i][j]\n",
        "\n",
        "print(f\"Total Cost: {total_cost}\")\n"
      ],
      "metadata": {
        "colab": {
          "base_uri": "https://localhost:8080/"
        },
        "id": "tfbGnVLlWDyk",
        "outputId": "95942868-d2a4-49d0-e0f7-a9cfc5843b7e"
      },
      "execution_count": null,
      "outputs": [
        {
          "output_type": "stream",
          "name": "stdout",
          "text": [
            "Added a dummy supply row with supply 20\n",
            "Allocation Matrix:\n",
            "[20, 0, 0]\n",
            "[10, 20, 0]\n",
            "[0, 20, 30]\n",
            "[0, 0, 20]\n",
            "Total Cost: 1150\n"
          ]
        }
      ]
    },
    {
      "cell_type": "markdown",
      "source": [
        "** Transportation problem using the least cost method**"
      ],
      "metadata": {
        "id": "JrfDTM2nnLsf"
      }
    },
    {
      "cell_type": "code",
      "source": [
        "supply = [20, 30, 50]\n",
        "demand = [30, 40, 50]\n",
        "cost = [[8, 6, 10],\n",
        "        [9, 12, 13],\n",
        "        [14, 9, 16]]\n",
        "\n",
        "rows = len(supply)\n",
        "cols = len(demand)\n",
        "\n",
        "total_supply = sum(supply)\n",
        "total_demand = sum(demand)\n",
        "\n",
        "# Balancing supply and demand if they are not equal\n",
        "if total_supply < total_demand:\n",
        "    supply.append(total_demand - total_supply)\n",
        "    dummy_row = [0] * cols\n",
        "    cost.append(dummy_row)\n",
        "    print(f\"Added a dummy supply row with supply {total_demand - total_supply}\")\n",
        "elif total_demand < total_supply:\n",
        "    demand.append(total_supply - total_demand)\n",
        "    for i in range(rows):\n",
        "        cost[i].append(0)\n",
        "    print(f\"Added a dummy demand column with demand {total_supply - total_demand}\")\n",
        "\n",
        "rows = len(supply)\n",
        "cols = len(demand)\n",
        "\n",
        "allocation = [[0] * cols for _ in range(rows)]\n",
        "\n",
        "# Creating a list of all cell positions sorted by cost\n",
        "cell_costs = [(i, j, cost[i][j]) for i in range(rows) for j in range(cols)]\n",
        "cell_costs.sort(key=lambda x: x[2])  # Sort by the cost value\n",
        "\n",
        "for i, j, _ in cell_costs:\n",
        "    if supply[i] > 0 and demand[j] > 0:\n",
        "        allocation_amount = min(supply[i], demand[j])\n",
        "        allocation[i][j] = allocation_amount\n",
        "        supply[i] -= allocation_amount\n",
        "        demand[j] -= allocation_amount\n",
        "\n",
        "print(\"Allocation Matrix:\")\n",
        "for row in allocation:\n",
        "    print(row)\n",
        "\n",
        "# Calculating total cost\n",
        "total_cost = 0\n",
        "for i in range(rows):\n",
        "    for j in range(cols):\n",
        "        total_cost += allocation[i][j] * cost[i][j]\n",
        "\n",
        "print(f\"Total Cost: {total_cost}\")\n"
      ],
      "metadata": {
        "colab": {
          "base_uri": "https://localhost:8080/"
        },
        "id": "3Iy1HxBfmCEQ",
        "outputId": "ef5bccb5-fde2-4255-cf9e-3ce87e81bad7"
      },
      "execution_count": 2,
      "outputs": [
        {
          "output_type": "stream",
          "name": "stdout",
          "text": [
            "Added a dummy supply row with supply 20\n",
            "Allocation Matrix:\n",
            "[0, 20, 0]\n",
            "[10, 0, 20]\n",
            "[0, 20, 30]\n",
            "[20, 0, 0]\n",
            "Total Cost: 1130\n"
          ]
        }
      ]
    },
    {
      "cell_type": "markdown",
      "source": [
        "**Transportation problem using the Vogel's Approximation Method**"
      ],
      "metadata": {
        "id": "b8giQ5uWnY7q"
      }
    },
    {
      "cell_type": "code",
      "source": [
        "supply = [20, 30, 50]\n",
        "demand = [30, 40, 50]\n",
        "cost = [[8, 6, 10],\n",
        "        [9, 12, 13],\n",
        "        [14, 9, 16]]\n",
        "\n",
        "rows = len(supply)\n",
        "cols = len(demand)\n",
        "\n",
        "total_supply = sum(supply)\n",
        "total_demand = sum(demand)\n",
        "\n",
        "# Balancing the problem if needed\n",
        "if total_supply < total_demand:\n",
        "    supply.append(total_demand - total_supply)\n",
        "    dummy_row = [0] * cols\n",
        "    cost.append(dummy_row)\n",
        "    print(f\"Added a dummy supply row with supply {total_demand - total_supply}\")\n",
        "elif total_demand < total_supply:\n",
        "    demand.append(total_supply - total_demand)\n",
        "    for i in range(rows):\n",
        "        cost[i].append(0)\n",
        "    print(f\"Added a dummy demand column with demand {total_supply - total_demand}\")\n",
        "\n",
        "rows = len(supply)\n",
        "cols = len(demand)\n",
        "\n",
        "allocation = [[0] * cols for _ in range(rows)]\n",
        "\n",
        "# Vogel's Approximation Method\n",
        "def calculate_penalties(cost, supply, demand):\n",
        "    penalties = []\n",
        "\n",
        "    for i in range(rows):\n",
        "        if supply[i] == 0:\n",
        "            penalties.append(None)  # Ignore rows with no supply\n",
        "            continue\n",
        "        sorted_row_costs = sorted([cost[i][j] for j in range(cols) if demand[j] > 0])\n",
        "        if len(sorted_row_costs) >= 2:\n",
        "            penalties.append(sorted_row_costs[1] - sorted_row_costs[0])\n",
        "        else:\n",
        "            penalties.append(sorted_row_costs[0])  # If only one cost is available\n",
        "    row_penalties = penalties[:]\n",
        "\n",
        "    penalties = []\n",
        "    for j in range(cols):\n",
        "        if demand[j] == 0:\n",
        "            penalties.append(None)  # Ignore columns with no demand\n",
        "            continue\n",
        "        sorted_col_costs = sorted([cost[i][j] for i in range(rows) if supply[i] > 0])\n",
        "        if len(sorted_col_costs) >= 2:\n",
        "            penalties.append(sorted_col_costs[1] - sorted_col_costs[0])\n",
        "        else:\n",
        "            penalties.append(sorted_col_costs[0])  # If only one cost is available\n",
        "    col_penalties = penalties[:]\n",
        "\n",
        "    return row_penalties, col_penalties\n",
        "\n",
        "while any(supply) and any(demand):\n",
        "    row_penalties, col_penalties = calculate_penalties(cost, supply, demand)\n",
        "\n",
        "    max_row_penalty = max((p, i) for i, p in enumerate(row_penalties) if p is not None)\n",
        "    max_col_penalty = max((p, j) for j, p in enumerate(col_penalties) if p is not None)\n",
        "\n",
        "    if max_row_penalty[0] >= max_col_penalty[0]:\n",
        "        i = max_row_penalty[1]\n",
        "        j = min((cost[i][j], j) for j in range(cols) if demand[j] > 0)[1]\n",
        "    else:\n",
        "        j = max_col_penalty[1]\n",
        "        i = min((cost[i][j], i) for i in range(rows) if supply[i] > 0)[1]\n",
        "\n",
        "    allocation_amount = min(supply[i], demand[j])\n",
        "    allocation[i][j] = allocation_amount\n",
        "    supply[i] -= allocation_amount\n",
        "    demand[j] -= allocation_amount\n",
        "\n",
        "print(\"Allocation Matrix:\")\n",
        "for row in allocation:\n",
        "    print(row)\n",
        "\n",
        "total_cost = 0\n",
        "for i in range(rows):\n",
        "    for j in range(cols):\n",
        "        total_cost += allocation[i][j] * cost[i][j]\n",
        "\n",
        "print(f\"Total Cost: {total_cost}\")\n"
      ],
      "metadata": {
        "id": "pW5IVx8WXmke",
        "colab": {
          "base_uri": "https://localhost:8080/"
        },
        "outputId": "fb7e6ffc-4591-4a8d-aa09-268a18952580"
      },
      "execution_count": 3,
      "outputs": [
        {
          "output_type": "stream",
          "name": "stdout",
          "text": [
            "Added a dummy supply row with supply 20\n",
            "Allocation Matrix:\n",
            "[0, 0, 20]\n",
            "[30, 0, 0]\n",
            "[0, 40, 10]\n",
            "[0, 0, 20]\n",
            "Total Cost: 990\n"
          ]
        }
      ]
    }
  ],
  "metadata": {
    "kernelspec": {
      "display_name": "Python 3",
      "language": "python",
      "name": "python3"
    },
    "language_info": {
      "codemirror_mode": {
        "name": "ipython",
        "version": 3
      },
      "file_extension": ".py",
      "mimetype": "text/x-python",
      "name": "python",
      "nbconvert_exporter": "python",
      "pygments_lexer": "ipython3",
      "version": "3.11.1"
    },
    "colab": {
      "provenance": []
    }
  },
  "nbformat": 4,
  "nbformat_minor": 0
}